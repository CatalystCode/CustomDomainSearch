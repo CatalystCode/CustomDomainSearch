{
 "cells": [
  {
   "cell_type": "markdown",
   "metadata": {},
   "source": [
    "## Building a Custom Search Engine\n",
    "### Step 3 - Query the Index and Retrieve Answers\n",
    "- Submit a single search query\n",
    "- Submit multiple queries in batch\n",
    "\n",
    "**Note:** A command-line script version is included under the Python folder of this project.\n",
    "- For interactive queries: azsearch_query.py\n",
    "- For batch queries in a file: azsearch_queryall.py"
   ]
  },
  {
   "cell_type": "code",
   "execution_count": 6,
   "metadata": {
    "collapsed": true
   },
   "outputs": [],
   "source": [
    "import requests\n",
    "import json\n",
    "import os\n",
    "import csv\n",
    "import pyexcel as pe\n",
    "import codecs\n",
    "import pandas as pd"
   ]
  },
  {
   "cell_type": "markdown",
   "metadata": {},
   "source": [
    "Initialize Azure Search configuration parameters to point to the content index to be used."
   ]
  },
  {
   "cell_type": "code",
   "execution_count": 7,
   "metadata": {
    "collapsed": true
   },
   "outputs": [],
   "source": [
    "# This is the service you've already created in Azure Portal\n",
    "serviceName = 'your_azure_search_service_name'\n",
    "\n",
    "# This is the index you've already created in Azure Portal or via the azsearch_mgmt.py script\n",
    "indexName = 'your_index_name_to_use'\n",
    "\n",
    "# Set your service API key, either via an environment variable or enter it below\n",
    "#apiKey = os.getenv('SEARCH_KEY_DEV', '')\n",
    "apiKey = 'your_azure_search_service_api_key'\n",
    "apiVersion = '2016-09-01'"
   ]
  },
  {
   "cell_type": "markdown",
   "metadata": {},
   "source": [
    "Optional configuration parameters to alter the search query request."
   ]
  },
  {
   "cell_type": "code",
   "execution_count": 9,
   "metadata": {
    "collapsed": true
   },
   "outputs": [],
   "source": [
    "# Retrieval options to alter the query results\n",
    "SEARCHFIELDS = None                            # use all searchable fields for retrieval\n",
    "#SEARCHFIELDS = 'Keywords, SubsectionText'     # use selected fields only for retrieval\n",
    "FUZZY = False                                  # enable fuzzy search (check API for details)\n",
    "NTOP  = 5                                      # uumber of results to return"
   ]
  },
  {
   "cell_type": "markdown",
   "metadata": {},
   "source": [
    "#### Helper functions for basic REST API operations"
   ]
  },
  {
   "cell_type": "code",
   "execution_count": 10,
   "metadata": {
    "collapsed": true
   },
   "outputs": [],
   "source": [
    "def getServiceUrl():\n",
    "    return 'https://' + serviceName + '.search.windows.net'\n",
    "\n",
    "def getMethod(servicePath):\n",
    "    headers = {'Content-type': 'application/json', 'api-key': apiKey}\n",
    "    r = requests.get(getServiceUrl() + servicePath, headers=headers)\n",
    "    #print(r, r.text)\n",
    "    return r\n",
    "\n",
    "def postMethod(servicePath, body):\n",
    "    headers = {'Content-type': 'application/json', 'api-key': apiKey}\n",
    "    r = requests.post(getServiceUrl() + servicePath, headers=headers, data=body)\n",
    "    #print(r, r.text)\n",
    "    return r"
   ]
  },
  {
   "cell_type": "markdown",
   "metadata": {},
   "source": [
    "#### Helper functions to submit a search query interactively or in batch"
   ]
  },
  {
   "cell_type": "code",
   "execution_count": 17,
   "metadata": {
    "collapsed": true
   },
   "outputs": [],
   "source": [
    "def submitQuery(query, fields=None, ntop=10, fuzzy=False):\n",
    "    servicePath = '/indexes/' + indexName + '/docs?api-version=%s&search=%s&$top=%d' % \\\n",
    "        (apiVersion, query, ntop)\n",
    "    if fields != None:\n",
    "        servicePath += '&searchFields=%s' % fields\n",
    "    if fuzzy:\n",
    "        servicePath += '&queryType=full'\n",
    "    \n",
    "    # Submit GET request\n",
    "    r = getMethod(servicePath)\n",
    "    if r.status_code != 200:\n",
    "        print('Failed to retrieve search results')\n",
    "        print(r, r.text)\n",
    "        return\n",
    "    \n",
    "    # Parse and report search results\n",
    "    docs = json.loads(r.text)['value']\n",
    "    print('Number of search results = %d\\n' % len(docs))\n",
    "    for i, doc in enumerate(docs):\n",
    "        print('Results# %d' % (i+1))\n",
    "        print('Chapter title   : %s' % doc['ChapterTitle'].encode('utf8'))\n",
    "        print('Section title   : %s' % doc['SectionTitle'].encode('utf8'))\n",
    "        print('Subsection title: %s' % doc['SubsectionTitle'].encode('utf8'))\n",
    "        print('%s\\n' % doc['SubsectionText'].encode('utf8'))\n",
    "        \n",
    "def submitBatchQuery(query, fields=None, ntop=10, fuzzy=False):\n",
    "    servicePath = '/indexes/' + indexName + '/docs?api-version=%s&search=%s&$top=%d' % \\\n",
    "        (apiVersion, query, ntop)\n",
    "    if fields != None:\n",
    "        servicePath += '&searchFields=%s' % fields\n",
    "    if fuzzy:\n",
    "        servicePath += '&queryType=full'\n",
    "\n",
    "    # Submit GET request\n",
    "    r = getMethod(servicePath)\n",
    "    if r.status_code != 200:\n",
    "        print('Failed to retrieve search results')\n",
    "        print(query, r, r.text)\n",
    "        return {}\n",
    "\n",
    "    # Return search results\n",
    "    docs = json.loads(r.text)['value']\n",
    "    return docs"
   ]
  },
  {
   "cell_type": "markdown",
   "metadata": {},
   "source": [
    "Let's submit a query/question and retrieve the answers."
   ]
  },
  {
   "cell_type": "code",
   "execution_count": 12,
   "metadata": {
    "scrolled": true
   },
   "outputs": [
    {
     "name": "stdout",
     "output_type": "stream",
     "text": [
      "Number of search results = 5\n",
      "\n",
      "Results# 1\n",
      "Chapter title   : b'Income Taxes - NORMAL TAXES AND SURTAXES'\n",
      "Section title   : b'Determination of Tax Liability - TAX ON INDIVIDUALS'\n",
      "Subsection title: b'Tax imposed - Married individuals filing separate returns'\n",
      "b'(d) Married individuals filing separate returns There is hereby imposed on the taxable income of every married individual (as defined in section 7703) who does not make a single return jointly with his spouse under section 6013, a tax determined in accordance with the following table: If taxable income is: The tax is: Not over $18,450 15% of taxable income. Over $18,450 but not over $44,575 $2,767.50, plus 28% of the excess over $18,450. Over $44,575 but not over $70,000 $10,082.50, plus 31% of the excess over $44,575. Over $70,000 but not over $125,000 $17,964.25, plus 36% of the excess over $70,000. Over $125,000 $37,764.25, plus 39.6% of the excess over $125,000.'\n",
      "\n",
      "Results# 2\n",
      "Chapter title   : b'Income Taxes - NORMAL TAXES AND SURTAXES'\n",
      "Section title   : b'Determination of Tax Liability - CREDITS AGAINST TAX - Nonrefundable Personal Credits'\n",
      "Subsection title: b'Credit for the elderly and the permanently and totally disabled - Definitions and special rules'\n",
      "b'(e) Definitions and special rules For purposes of this section (1) Married couple must file joint return Except in the case of a husband and wife who live apart at all times during the taxable year, if the taxpayer is married at the close of the taxable year, the credit provided by this section shall be allowed only if the taxpayer and his spouse file a joint return for the taxable year. (2) Marital status Marital status shall be determined under section 7703. (3) Permanent and total disability defined An individual is permanently and totally disabled if he is unable to engage in any substantial gainful activity by reason of any medically determinable physical or mental impairment which can be expected to result in death or which has lasted or can be expected to last for a continuous period of not less than 12 months. An individual shall not be considered to be permanently and totally disabled unless he furnishes proof of the existence thereof in such form and manner, and at such times, as the Secretary may require.'\n",
      "\n",
      "Results# 3\n",
      "Chapter title   : b'Income Taxes - NORMAL TAXES AND SURTAXES'\n",
      "Section title   : b'Determination of Tax Liability - TAX ON INDIVIDUALS'\n",
      "Subsection title: b'Tax imposed - Married individuals filing joint returns and surviving spouses'\n",
      "b'(a) Married individuals filing joint returns and surviving spouses There is hereby imposed on the taxable income of (1) every married individual (as defined in section 7703) who makes a single return jointly with his spouse under section 6013, and (2) every surviving spouse (as defined in section 2(a)), a tax determined in accordance with the following table: If taxable income is: The tax is: Not over $36,900 15% of taxable income. Over $36,900 but not over $89,150 $5,535, plus 28% of the excess over $36,900. Over $89,150 but not over $140,000 $20,165, plus 31% of the excess over $89,150. Over $140,000 but not over $250,000 $35,928.50, plus 36% of the excess over $140,000. Over $250,000 $75,528.50, plus 39.6% of the excess over $250,000.'\n",
      "\n",
      "Results# 4\n",
      "Chapter title   : b'Income Taxes - NORMAL TAXES AND SURTAXES'\n",
      "Section title   : b'Determination of Tax Liability - TAX ON INDIVIDUALS'\n",
      "Subsection title: b'Tax imposed - Phaseout of marriage penalty in 15-percent bracket; adjustments in tax tables so that inflation will not result in tax increases'\n",
      "b'(f) Phaseout of marriage penalty in 15-percent bracket; adjustments in tax tables so that inflation will not result in tax increases (1) In general Not later than December 15 of 1993, and each subsequent calendar year, the Secretary shall prescribe tables which shall apply in lieu of the tables contained in subsections (a), (b), (c), (d), and (e) with respect to taxable years beginning in the succeeding calendar year. (2) Method of prescribing tables The table which under paragraph (1) is to apply in lieu of the table contained in subsection (a), (b), (c), (d), or (e), as the case may be, with respect to taxable years beginning in any calendar year shall be prescribed (A) except as provided in paragraph (8), by increasing the minimum and maximum dollar amounts for each rate bracket for which a tax is imposed under such table by the cost-of-living adjustment for such calendar year, (B) by not changing the rate applicable to any rate bracket as adjusted under subparagraph (A), and (C) by adjusting the amounts setting forth the tax to the extent necessary to reflect the adjustments in the rate brackets. (3) Cost-of-living adjustment For purposes of paragraph (2), the cost-of-living adjustment for any calendar year is the percentage (if any) by which (A) the CPI for the preceding calendar year, exceeds (B) the CPI for the calendar year 1992. (4) CPI for any calendar year For purposes of paragraph (3), the CPI for any calendar year is the average of the Consumer Price Index as of the close of the 12-month period ending on August 31 of such calendar year. (5) Consumer Price Index For purposes of paragraph (4), the term Consumer Price Index means the last Consumer Price Index for all-urban consumers published by the Department of Labor. For purposes of the preceding sentence, the revision of the Consumer Price Index which is most consistent with the Consumer Price Index for calendar year 1986 shall be used. (6) Rounding (A) In general If any increase determined under paragraph (2)(A), section 63(c)(4), section 68(b)(2) or section 151(d)(4) is not a multiple of $50, such increase shall be rounded to the next lowest multiple of $50. (B) Table for married individuals filing separately In the case of a married individual filing a separate return, subparagraph (A) (other than with respect to sections 63(c)(4) and 151(d)(4)(A)) shall be applied by substituting $25 for $50 each place it appears. (7) Special rule for certain brackets In prescribing tables under paragraph (1) which apply to taxable years beginning in a calendar year after 1994, the cost-of-living adjustment used in making adjustments to the dollar amounts at which the 36 percent rate bracket begins or at which the 39.6 percent rate bracket begins shall be determined under paragraph (3) by substituting 1993 for 1992. (8) Elimination of marriage penalty in 15-percent bracket With respect to taxable years beginning after December 31, 2003 , in prescribing the tables under paragraph (1) (A) the maximum taxable income in the 15-percent rate bracket in the table contained in subsection (a) (and the minimum taxable income in the next higher taxable income bracket in such table) shall be 200 percent of the maximum taxable income in the 15-percent rate bracket in the table contained in subsection (c) (after any other adjustment under this subsection), and (B) the comparable taxable income amounts in the table contained in subsection (d) shall be \\xc2\\xbd of the amounts determined under subparagraph (A).'\n",
      "\n",
      "Results# 5\n",
      "Chapter title   : b'Income Taxes - NORMAL TAXES AND SURTAXES'\n",
      "Section title   : b'Determination of Tax Liability - CREDITS AGAINST TAX - Nonrefundable Personal Credits'\n",
      "Subsection title: b'Adoption expenses - Filing requirements'\n",
      "b'(f) Filing requirements (1) Married couples must file joint returns Rules similar to the rules of paragraphs (2), (3), and (4) of section 21(e) shall apply for purposes of this section. (2) Taxpayer must include TIN (A) In general No credit shall be allowed under this section with respect to any eligible child unless the taxpayer includes (if known) the name, age, and TIN of such child on the return of tax for the taxable year. (B) Other methods The Secretary may, in lieu of the information referred to in subparagraph (A), require other information meeting the purposes of subparagraph (A), including identification of an agent assisting with the adoption.'\n",
      "\n"
     ]
    }
   ],
   "source": [
    "query = 'what is the tax bracket for married couple filing separately'\n",
    "if query != '':\n",
    "    # Submit query to Azure Search and retrieve results\n",
    "    searchFields = SEARCHFIELDS\n",
    "    submitQuery(query, fields=searchFields, ntop=NTOP)"
   ]
  },
  {
   "cell_type": "markdown",
   "metadata": {},
   "source": [
    "Now let's submit a set of queries in batch and retrieve all ranked lists of results. This mode would be useful for performance evaluation given a set of queries and ground truth answers."
   ]
  },
  {
   "cell_type": "code",
   "execution_count": 27,
   "metadata": {
    "collapsed": true
   },
   "outputs": [],
   "source": [
    "# Input file coontaining the list of queries [tab-separated .txt or .tsv, Excel .xls or .xlsx]\n",
    "infile  = os.path.join(os.getcwd(), '../sample/sample_queries.txt')\n",
    "outfile = os.path.join(os.getcwd(), '../sample/sample_query_answers.xlsx')\n",
    "\n",
    "if infile.endswith('.tsv') or infile.endswith('.txt'):\n",
    "    records = pd.read_csv(infile, sep='\\t', header=0, encoding='utf-8')\n",
    "    rows = records.iterrows()\n",
    "elif infile.endswith('.xls') or infile.endswith('.xlsx'):\n",
    "    records = pe.iget_records(file_name=infile)\n",
    "    rows = enumerate(records)\n",
    "else:\n",
    "    print('Unsupported query file extension. Options: tsv, txt, xls, xlsx')"
   ]
  },
  {
   "cell_type": "code",
   "execution_count": 28,
   "metadata": {},
   "outputs": [
    {
     "name": "stdout",
     "output_type": "stream",
     "text": [
      "QID:    1\tNumber of results: 5\n",
      "QID:    2\tNumber of results: 5\n",
      "QID:    3\tNumber of results: 5\n",
      "QID:    4\tNumber of results: 5\n",
      "QID:    5\tNumber of results: 5\n",
      "QID:    6\tNumber of results: 5\n",
      "QID:    7\tNumber of results: 5\n",
      "Search results saved in file sample_query_answers.xlsx\n"
     ]
    }
   ],
   "source": [
    "# Dataframe to keep index of crawled pages\n",
    "df = pd.DataFrame(columns = ['Qid', 'Query', 'Rank', 'SubsectionText', 'ChapterTitle', 'SectionTitle', 'SubsectionTitle', 'Keywords'])\n",
    "        \n",
    "for i, row in rows:\n",
    "    qid   = int(row['Qid'])\n",
    "    query = row['Query']\n",
    "    # Submit query to Azure Search and retrieve results\n",
    "    searchFields = SEARCHFIELDS\n",
    "    docs = submitBatchQuery(query, fields=searchFields, ntop=NTOP, fuzzy=FUZZY)\n",
    "    print('QID: %4d\\tNumber of results: %d' % (qid, len(docs)))\n",
    "    for id, doc in enumerate(docs):\n",
    "        chapter_title    = doc['ChapterTitle']\n",
    "        section_title    = doc['SectionTitle']\n",
    "        subsection_title = doc['SubsectionTitle']\n",
    "        subsection_text  = doc['SubsectionText']\n",
    "        keywords         = doc['Keywords']\n",
    "\n",
    "        df = df.append({'Qid'             : qid, \n",
    "                        'Query'           : query, \n",
    "                        'Rank'            : (id + 1), \n",
    "                        'SubsectionText'  : subsection_text,\n",
    "                        'ChapterTitle'    : chapter_title,\n",
    "                        'SectionTitle'    : section_title,\n",
    "                        'SubsectionTitle' : subsection_title,\n",
    "                        'Keywords'   : keywords},\n",
    "                        ignore_index=True)\n",
    "\n",
    "# Save all answers\n",
    "df['Qid']  = df['Qid'].astype(int)\n",
    "df['Rank'] = df['Rank'].astype(int)\n",
    "\n",
    "if outfile.endswith('.xls') or outfile.endswith('.xlsx'):\n",
    "    df.to_excel(outfile, index=False, encoding='utf-8')    \n",
    "else:    # default tab-separated file\n",
    "    df.to_csv(outfile, sep='\\t', index=False, encoding='utf-8') \n",
    "print('Search results saved in file %s' % os.path.basename(outfile))"
   ]
  },
  {
   "cell_type": "code",
   "execution_count": null,
   "metadata": {
    "collapsed": true
   },
   "outputs": [],
   "source": []
  }
 ],
 "metadata": {
  "kernelspec": {
   "display_name": "Python 3",
   "language": "python",
   "name": "python3"
  },
  "language_info": {
   "codemirror_mode": {
    "name": "ipython",
    "version": 3
   },
   "file_extension": ".py",
   "mimetype": "text/x-python",
   "name": "python",
   "nbconvert_exporter": "python",
   "pygments_lexer": "ipython3",
   "version": "3.6.1"
  }
 },
 "nbformat": 4,
 "nbformat_minor": 2
}
